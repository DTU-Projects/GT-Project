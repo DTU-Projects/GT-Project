{
  "nbformat": 4,
  "nbformat_minor": 0,
  "metadata": {
    "colab": {
      "name": "Text Summarization.ipynb",
      "provenance": []
    },
    "kernelspec": {
      "name": "python3",
      "display_name": "Python 3"
    },
    "language_info": {
      "name": "python"
    }
  },
  "cells": [
    {
      "cell_type": "code",
      "metadata": {
        "colab": {
          "base_uri": "https://localhost:8080/"
        },
        "id": "1Wssfitcn4Vy",
        "outputId": "4e771b97-e264-4c97-c655-d31eccd4bd7e"
      },
      "source": [
        "import numpy as np\n",
        "import pandas as pd\n",
        "import nltk\n",
        "import re\n",
        "from nltk.tokenize import sent_tokenize\n",
        "from nltk.corpus import stopwords\n",
        "from gensim.models import Word2Vec\n",
        "from scipy import spatial\n",
        "import networkx as nx\n",
        "nltk.download('punkt')\n",
        "nltk.download('stopwords')"
      ],
      "execution_count": 7,
      "outputs": [
        {
          "output_type": "stream",
          "name": "stdout",
          "text": [
            "[nltk_data] Downloading package punkt to /root/nltk_data...\n",
            "[nltk_data]   Package punkt is already up-to-date!\n",
            "[nltk_data] Downloading package stopwords to /root/nltk_data...\n",
            "[nltk_data]   Unzipping corpora/stopwords.zip.\n"
          ]
        },
        {
          "output_type": "execute_result",
          "data": {
            "text/plain": [
              "True"
            ]
          },
          "metadata": {},
          "execution_count": 7
        }
      ]
    },
    {
      "cell_type": "code",
      "metadata": {
        "id": "cf3D563XoDzs"
      },
      "source": [
        "text='''Prime Minister Narendra Modi launched the Ayushman Bharat Health Infrastructure Mission, one of the largest pan-India schemes for strengthening healthcare infrastructure, in his parliamentary constituency Varanasi in Uttar Pradesh on Monday.\n",
        "\n",
        "The Prime Minister also inaugurated various development projects worth more than ₹5,200 crore for his constituency.\n",
        "\n",
        "The Pradhan Mantri Ayushman Bharat Health Infrastructure Mission is one of the largest pan-India schemes for strengthening healthcare infrastructure across the country. It is in addition to the National Health Mission.\n",
        "\n",
        "Its objective is to fill gaps in public health infrastructure, especially in critical care facilities and primary care in both urban and rural areas. It will provide support for 17,788 rural health and wellness centres in 10 high-focus states. Further, 11,024 urban health and wellness centres will be established in all the States.\n",
        "\n",
        "\n",
        "Through this, critical care services will be available in all the districts of the country with more than five lakh population through exclusive critical care hospital blocks, while the remaining districts will be covered through referral services.\n",
        "\n",
        "\n",
        "People will have access to a full range of diagnostic services in the public healthcare system through a network of laboratories across the country, and integrated public health labs will be set up in all the districts.\n",
        "\n",
        "Under the scheme, a national institution for one health, four new national institutes for virology, a regional research platform for WHO South East Asia Region, nine biosafety level-III laboratories, five new regional national centre for disease control will be set up.'''"
      ],
      "execution_count": 13,
      "outputs": []
    },
    {
      "cell_type": "code",
      "metadata": {
        "id": "1LnDx4lHoJSQ"
      },
      "source": [
        "sentences=sent_tokenize(text)"
      ],
      "execution_count": 14,
      "outputs": []
    },
    {
      "cell_type": "code",
      "metadata": {
        "id": "fStBxeaYoX3k"
      },
      "source": [
        "sentences_clean=[re.sub(r'[^\\w\\s]','',sentence.lower()) for sentence in sentences]\n",
        "stop_words = stopwords.words('english')\n",
        "sentence_tokens=[[words for words in sentence.split(' ') if words not in stop_words] for sentence in sentences_clean]"
      ],
      "execution_count": 15,
      "outputs": []
    },
    {
      "cell_type": "code",
      "metadata": {
        "colab": {
          "base_uri": "https://localhost:8080/"
        },
        "id": "mVYxPTZ0ohip",
        "outputId": "2d8da482-9950-4cd2-f706-586dc50247b3"
      },
      "source": [
        "w2v=Word2Vec(sentence_tokens,size=1,min_count=1,iter=1000)\n",
        "sentence_embeddings=[[w2v[word][0] for word in words] for words in sentence_tokens]\n",
        "max_len=max([len(tokens) for tokens in sentence_tokens])\n",
        "sentence_embeddings=[np.pad(embedding,(0,max_len-len(embedding)),'constant') for embedding in sentence_embeddings]"
      ],
      "execution_count": 16,
      "outputs": [
        {
          "output_type": "stream",
          "name": "stderr",
          "text": [
            "/usr/local/lib/python3.7/dist-packages/ipykernel_launcher.py:2: DeprecationWarning: Call to deprecated `__getitem__` (Method will be removed in 4.0.0, use self.wv.__getitem__() instead).\n",
            "  \n"
          ]
        }
      ]
    },
    {
      "cell_type": "code",
      "metadata": {
        "id": "aqXm03__oltN"
      },
      "source": [
        "similarity_matrix = np.zeros([len(sentence_tokens), len(sentence_tokens)])\n",
        "for i,row_embedding in enumerate(sentence_embeddings):\n",
        "    for j,column_embedding in enumerate(sentence_embeddings):\n",
        "        similarity_matrix[i][j]=1-spatial.distance.cosine(row_embedding,column_embedding)"
      ],
      "execution_count": 17,
      "outputs": []
    },
    {
      "cell_type": "code",
      "metadata": {
        "id": "zsEqu_RiooV_"
      },
      "source": [
        "nx_graph = nx.from_numpy_array(similarity_matrix)\n",
        "scores = nx.pagerank(nx_graph)"
      ],
      "execution_count": 18,
      "outputs": []
    },
    {
      "cell_type": "code",
      "metadata": {
        "colab": {
          "base_uri": "https://localhost:8080/"
        },
        "id": "Fnm_N8xKoqzt",
        "outputId": "41ed92b4-cbf5-4c6b-9c54-627851b7953a"
      },
      "source": [
        "top_sentence={sentence:scores[index] for index,sentence in enumerate(sentences)}\n",
        "top=dict(sorted(top_sentence.items(), key=lambda x: x[1], reverse=True)[:4])\n",
        "for sent in sentences:\n",
        "    if sent in top.keys():\n",
        "        print(sent)"
      ],
      "execution_count": 19,
      "outputs": [
        {
          "output_type": "stream",
          "name": "stdout",
          "text": [
            "The Pradhan Mantri Ayushman Bharat Health Infrastructure Mission is one of the largest pan-India schemes for strengthening healthcare infrastructure across the country.\n",
            "Its objective is to fill gaps in public health infrastructure, especially in critical care facilities and primary care in both urban and rural areas.\n",
            "Through this, critical care services will be available in all the districts of the country with more than five lakh population through exclusive critical care hospital blocks, while the remaining districts will be covered through referral services.\n",
            "People will have access to a full range of diagnostic services in the public healthcare system through a network of laboratories across the country, and integrated public health labs will be set up in all the districts.\n"
          ]
        }
      ]
    }
  ]
}